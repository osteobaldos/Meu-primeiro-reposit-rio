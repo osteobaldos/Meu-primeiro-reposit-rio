{
  "nbformat": 4,
  "nbformat_minor": 0,
  "metadata": {
    "colab": {
      "provenance": [],
      "authorship_tag": "ABX9TyMm92io8iw3N2PQKB6tX8g+",
      "include_colab_link": true
    },
    "kernelspec": {
      "name": "python3",
      "display_name": "Python 3"
    },
    "language_info": {
      "name": "python"
    }
  },
  "cells": [
    {
      "cell_type": "markdown",
      "metadata": {
        "id": "view-in-github",
        "colab_type": "text"
      },
      "source": [
        "<a href=\"https://colab.research.google.com/github/osteobaldos/Meu-primeiro-reposit-rio/blob/main/Similiridade_de_frases.ipynb\" target=\"_parent\"><img src=\"https://colab.research.google.com/assets/colab-badge.svg\" alt=\"Open In Colab\"/></a>"
      ]
    },
    {
      "cell_type": "markdown",
      "source": [
        "Encontre a similaridade entre as frases utilizando o tf-idf\n",
        "Frases:\n",
        "\n",
        "Deus, para a felicidade do homem, inventou a fé o amor e amizade. O Diabo,\n",
        "invejoso, fez o homem confundir fé com religião e amor com casamento.\n",
        "\n",
        "Não é amigo aquele que alardeia a amizade: é traficante; a amizade sente-\n",
        "se, não se diz\n",
        "\n",
        "Eu não sou homem que recuse elogios. Amo-os; eles fazem bem à alma e\n",
        "até ao corpo. As melhores digestões da minha vida são as dos jantares em\n",
        "que sou brindado.\n",
        "\n",
        "Quem tem um amigo, mesmo que um só, não importa onde se encontre,\n",
        "jamais sofrerá de solidão; poderá morrer de saudades, mas não estará só. A\n",
        "verdadeira amizade é aquela que nos permite falar, ao amigo, de todos os\n",
        "seus defeitos e de todas as nossas qualidades.\n",
        "\n",
        "A amizade é um amor que nunca morre. A amizade desenvolve a felicidade\n",
        "e reduz o sofrimento, duplicando a nossa alegria e dividindo a nossa dor\n"
      ],
      "metadata": {
        "id": "Xi5KFAQkK_vs"
      }
    },
    {
      "cell_type": "code",
      "source": [
        "import pandas as pd"
      ],
      "metadata": {
        "id": "sktoCKWbLiwE"
      },
      "execution_count": 2,
      "outputs": []
    },
    {
      "cell_type": "code",
      "execution_count": 19,
      "metadata": {
        "id": "p-3d5lmQKzP7"
      },
      "outputs": [],
      "source": [
        "# Frases\n",
        "frase1 = \"Deus, para a felicidade do homem, inventou a fé o amor e amizade. O Diabo, invejoso, fez o homem confundir fé com religião e amor com casamento.\"\n",
        "frase2 = \"Não é amigo aquele que alardeia a amizade: é traficante; a amizade sente-se, não se diz\"\n",
        "frase3 = \"Eu não sou homem que recuse elogios. Amo-os; eles fazem bem à alma e até ao corpo. As melhores digestões da minha vida são as dos jantares em que sou brindado.\"\n",
        "frase4 = \"Quem tem um amigo, mesmo que um só, não importa onde se encontre, jamais sofrerá de solidão; poderá morrer de saudades, mas não estará só. A verdadeira amizade é aquela que nos permite falar, ao amigo, de todos os seus defeitos e de todas as nossas qualidades.\"\n",
        "frase5 = \"A amizade é um amor que nunca morre. A amizade desenvolve a felicidade e reduz o sofrimento, duplicando a nossa alegria e dividindo a nossa dor.\""
      ]
    },
    {
      "cell_type": "code",
      "source": [
        "from sklearn.feature_extraction.text import TfidfVectorizer\n",
        "from sklearn.metrics.pairwise import cosine_similarity"
      ],
      "metadata": {
        "id": "zKXQwJ2WMCAT"
      },
      "execution_count": 20,
      "outputs": []
    },
    {
      "cell_type": "code",
      "source": [
        "# Lista de frases\n",
        "frases = [frase1, frase2, frase3, frase4, frase5]"
      ],
      "metadata": {
        "id": "_luq5QrlMJjL"
      },
      "execution_count": 21,
      "outputs": []
    },
    {
      "cell_type": "code",
      "source": [
        "# Vetorização das frases com TF-IDF\n",
        "vectorizer = TfidfVectorizer()\n",
        "X = vectorizer.fit_transform(frases)"
      ],
      "metadata": {
        "id": "G9exY-i7MYp7"
      },
      "execution_count": 22,
      "outputs": []
    },
    {
      "cell_type": "code",
      "source": [
        "# Calcula a similaridade de cosseno entre todas as frases\n",
        "similaridade = cosine_similarity(X)"
      ],
      "metadata": {
        "id": "qaRlf3Q8Mj00"
      },
      "execution_count": 23,
      "outputs": []
    },
    {
      "cell_type": "code",
      "source": [
        "# Imprime a matriz de similaridade\n",
        "print(\"Matriz de Similaridade TF-IDF:\")\n",
        "print(similaridade)"
      ],
      "metadata": {
        "colab": {
          "base_uri": "https://localhost:8080/",
          "height": 0
        },
        "id": "ReAjCB3PMrkM",
        "outputId": "31278098-b61a-44df-f296-5e05c159486d"
      },
      "execution_count": 24,
      "outputs": [
        {
          "output_type": "stream",
          "name": "stdout",
          "text": [
            "Matriz de Similaridade TF-IDF:\n",
            "[[1.         0.03784885 0.04812019 0.00861153 0.1294002 ]\n",
            " [0.03784885 1.         0.08161614 0.22163848 0.11439771]\n",
            " [0.04812019 0.08161614 1.         0.11565617 0.02836832]\n",
            " [0.00861153 0.22163848 0.11565617 1.         0.08434768]\n",
            " [0.1294002  0.11439771 0.02836832 0.08434768 1.        ]]\n"
          ]
        }
      ]
    },
    {
      "cell_type": "markdown",
      "source": [
        "Encontre a similaridade entre as frases utilizando o bag of words Frases:\n",
        "\n",
        "Deus, para a felicidade do homem, inventou a fé o amor e amizade. O Diabo, invejoso, fez o homem confundir fé com religião e amor com casamento.\n",
        "\n",
        "Não é amigo aquele que alardeia a amizade: é traficante; a amizade sente- se, não se diz\n",
        "\n",
        "Eu não sou homem que recuse elogios. Amo-os; eles fazem bem à alma e até ao corpo. As melhores digestões da minha vida são as dos jantares em que sou brindado.\n",
        "\n",
        "Quem tem um amigo, mesmo que um só, não importa onde se encontre, jamais sofrerá de solidão; poderá morrer de saudades, mas não estará só. A verdadeira amizade é aquela que nos permite falar, ao amigo, de todos os seus defeitos e de todas as nossas qualidades.\n",
        "\n",
        "A amizade é um amor que nunca morre. A amizade desenvolve a felicidade e reduz o sofrimento, duplicando a nossa alegria e dividindo a nossa dor"
      ],
      "metadata": {
        "id": "GaZC0DHLNFNF"
      }
    },
    {
      "cell_type": "code",
      "source": [
        "# Frases\n",
        "frase1 = \"Deus, para a felicidade do homem, inventou a fé o amor e amizade. O Diabo, invejoso, fez o homem confundir fé com religião e amor com casamento.\"\n",
        "frase2 = \"Não é amigo aquele que alardeia a amizade: é traficante; a amizade sente- se, não se diz\"\n",
        "frase3 = \"Eu não sou homem que recuse elogios. Amo-os; eles fazem bem à alma e até ao corpo. As melhores digestões da minha vida são as dos jantares em que sou brindado.\"\n",
        "frase4 = \"Quem tem um amigo, mesmo que um só, não importa onde se encontre, jamais sofrerá de solidão; poderá morrer de saudades, mas não estará só. A verdadeira amizade é aquela que nos permite falar, ao amigo, de todos os seus defeitos e de todas as nossas qualidades.\"\n",
        "frase5 = \"A amizade é um amor que nunca morre. A amizade desenvolve a felicidade e reduz o sofrimento, duplicando a nossa alegria e dividindo a nossa dor.\""
      ],
      "metadata": {
        "id": "moNtw164M3c8"
      },
      "execution_count": 13,
      "outputs": []
    },
    {
      "cell_type": "code",
      "source": [
        "from sklearn.feature_extraction.text import CountVectorizer\n",
        "from sklearn.metrics.pairwise import cosine_similarity"
      ],
      "metadata": {
        "id": "_giZeIpNP0CD"
      },
      "execution_count": 14,
      "outputs": []
    },
    {
      "cell_type": "code",
      "source": [
        "# Lista de frases\n",
        "frases = [frase1, frase2, frase3, frase4, frase5]"
      ],
      "metadata": {
        "id": "DHTdGCjiRNZD"
      },
      "execution_count": 15,
      "outputs": []
    },
    {
      "cell_type": "code",
      "source": [
        "# Vetorização das frases\n",
        "vectorizer = CountVectorizer()\n",
        "X = vectorizer.fit_transform(frases)"
      ],
      "metadata": {
        "id": "5TC-4VCuRWIj"
      },
      "execution_count": 16,
      "outputs": []
    },
    {
      "cell_type": "code",
      "source": [
        "# Calcula a similaridade de cosseno entre todas as frases\n",
        "similaridade = cosine_similarity(X)"
      ],
      "metadata": {
        "id": "wkPsE4-fRbMr"
      },
      "execution_count": 17,
      "outputs": []
    },
    {
      "cell_type": "code",
      "source": [
        "# Imprime a matriz de similaridade\n",
        "print(\"Matriz de Similaridade:\")\n",
        "print(similaridade)"
      ],
      "metadata": {
        "colab": {
          "base_uri": "https://localhost:8080/",
          "height": 0
        },
        "id": "vPlKeHGTRjSs",
        "outputId": "e5ca7475-950e-44b8-b767-64a182b6cd0c"
      },
      "execution_count": 18,
      "outputs": [
        {
          "output_type": "stream",
          "name": "stdout",
          "text": [
            "Matriz de Similaridade:\n",
            "[[1.         0.086711   0.06299408 0.02326211 0.20619652]\n",
            " [0.086711   1.         0.15294382 0.3388695  0.25031309]\n",
            " [0.06299408 0.15294382 1.         0.20515248 0.0727393 ]\n",
            " [0.02326211 0.3388695  0.20515248 1.         0.16116459]\n",
            " [0.20619652 0.25031309 0.0727393  0.16116459 1.        ]]\n"
          ]
        }
      ]
    },
    {
      "cell_type": "code",
      "source": [],
      "metadata": {
        "id": "28hSqRvTRrJz"
      },
      "execution_count": null,
      "outputs": []
    }
  ]
}